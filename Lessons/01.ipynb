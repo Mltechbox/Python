{
 "cells": [
  {
   "cell_type": "markdown",
   "metadata": {},
   "source": [
    "## Data type"
   ]
  },
  {
   "cell_type": "code",
   "execution_count": 9,
   "metadata": {},
   "outputs": [
    {
     "name": "stdout",
     "output_type": "stream",
     "text": [
      "1\n",
      "5.0\n",
      "(1+3j)\n",
      "uno\n",
      "2\n",
      "dos\n",
      "2\n",
      "Hola\n",
      "\n",
      "Hola\\n\n"
     ]
    }
   ],
   "source": [
    "a = 1  # Integer\n",
    "b = 5.0  # Float\n",
    "c = 1.0+3.0j  # Complex numbers\n",
    "d = \"uno\"  # String Unicode\n",
    "e = \"2\"  # String Unicode \n",
    "f = r\"tres\"  # String raw\n",
    "g = r\"4\"  # String raw\n",
    "print(a)\n",
    "print(b)\n",
    "print(c)\n",
    "print(d)\n",
    "print(e)\n",
    "print(f)\n",
    "print(g)\n",
    "u = u\"Hola\\n\"\n",
    "r = r\"Hola\\n\"\n",
    "print(u)\n",
    "print(r)"
   ]
  },
  {
   "cell_type": "code",
   "execution_count": 14,
   "metadata": {},
   "outputs": [
    {
     "name": "stdout",
     "output_type": "stream",
     "text": [
      "Hello World\n",
      "Hello World    Hello World    Hello World    Hello World    Hello World    \n"
     ]
    }
   ],
   "source": [
    "s1 = \"Hello\"\n",
    "s2 = \"World\"\n",
    "print(s1 + \" \" + s2)\n",
    "\n",
    "s=(s1 + \" \" + s2 + \"    \")\n",
    "print(s*5)"
   ]
  },
  {
   "cell_type": "markdown",
   "metadata": {},
   "source": [
    "## Number Operators"
   ]
  },
  {
   "cell_type": "code",
   "execution_count": 12,
   "metadata": {},
   "outputs": [
    {
     "name": "stdout",
     "output_type": "stream",
     "text": [
      "7\n",
      "40\n",
      "2.0\n",
      "3\n",
      "3\n",
      "81\n",
      "256\n",
      "337\n",
      "14.0\n"
     ]
    }
   ],
   "source": [
    "a = 3+4  \n",
    "b = 80 - 10*4\n",
    "c = (80 - 10*4)/20 # Division always return a floating point number\n",
    "d = 15 // 4  # floor division discards the fractional part\n",
    "e = 15 % 6  # the % operator returns the remainder of the division \n",
    "f = 9 ** 2  # 9 squared\n",
    "g = 2 ** 8  # 2 to the power of 8\n",
    "h = f + g  # equal sign (=) is used to assign a value to a variable\n",
    "i = 4 * 3.75 - 1  # operators with mixed type operands convert the integer operand to floating point\n",
    "print(a)\n",
    "print(b)\n",
    "print(c)\n",
    "print(d)\n",
    "print(e)\n",
    "print(f)\n",
    "print(g)\n",
    "print(h)\n",
    "print(i)"
   ]
  },
  {
   "cell_type": "code",
   "execution_count": null,
   "metadata": {},
   "outputs": [],
   "source": []
  }
 ],
 "metadata": {
  "kernelspec": {
   "display_name": "Python 3",
   "language": "python",
   "name": "python3"
  },
  "language_info": {
   "codemirror_mode": {
    "name": "ipython",
    "version": 3
   },
   "file_extension": ".py",
   "mimetype": "text/x-python",
   "name": "python",
   "nbconvert_exporter": "python",
   "pygments_lexer": "ipython3",
   "version": "3.7.1"
  }
 },
 "nbformat": 4,
 "nbformat_minor": 2
}
